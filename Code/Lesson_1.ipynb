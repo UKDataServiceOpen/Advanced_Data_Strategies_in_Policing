{
    "cells": [
        {
            "cell_type": "markdown",
            "metadata": {},
            "source": "\n"
        },
        {
            "cell_type": "code",
            "execution_count": null,
            "metadata": {},
            "outputs": [],
            "source": [
                "install.packages(\"readr\")\n",
                "\n",
                "library(readr)\n",
                "library(dplyr)\n",
                "library(lubridate)\n",
                "library(forecast)\n",
                "library(fable)\n",
                "library(tsibble)\n",
                "library(readr)\n",
                "library(janitor)\n",
                "library(ggplot2)\n"
            ]
        },
        {
            "cell_type": "markdown",
            "metadata": {},
            "source": "\n"
        },
        {
            "cell_type": "code",
            "execution_count": null,
            "metadata": {},
            "outputs": [],
            "source": [
                "calls <- read_csv(\"Data/combined_cheshire_street_data.csv\") \n",
                "calls <- calls %>% clean_names()\n",
                "head(calls)\n"
            ]
        },
        {
            "cell_type": "markdown",
            "metadata": {},
            "source": [
                "# Categorise Incidents\n",
                "\n"
            ]
        },
        {
            "cell_type": "code",
            "execution_count": null,
            "metadata": {},
            "outputs": [],
            "source": [
                "minor_categories <- calls %>% \n",
                "  count(crime_type) %>% \n",
                "  filter(n < 1000) %>% \n",
                "  pull(crime_type)\n",
                "\n",
                "calls %>% \n",
                "  filter(crime_type %in% c(\"Drugs\")) %>% \n",
                "  mutate(week = as_date(yearweek(month))) %>% \n",
                "  count(week)\n",
                "\n",
                "calls %>% \n",
                "  mutate(crime_type_new = case_when(\n",
                "    crime_type %in% c(\n",
                "      \"Assistance to Other Agencies\",\n",
                "      \"CRB Use Only\",\n",
                "      \"CSI To Be Informed\",\n",
                "      \"External System\",\n",
                "      \"Found Stolen Vehicle\",\n",
                "      \"Message to Pass/OOF Enquiries\",\n",
                "      \"PNC Markers\",\n",
                "      \"Police Vehicle Recovery\",\n",
                "      \"Pre-Planned Events\",\n",
                "      \"Stop Search\",\n",
                "      \"Training\"\n",
                "    ) ~ \"other - admin\",\n",
                "    crime_type %in% c(\n",
                "      \"Alarm - Activation\", \n",
                "      \"Alarm - No Response\", \n",
                "      \"Audible Only Alarm\",\n",
                "      \"Insecure Premises\",\n",
                "      \"Police Installed Alarm\",\n",
                "      \"Unauthorised Encampment\"\n",
                "    ) ~ \"alarms\",\n",
                "    crime_type %in% c(\n",
                "      \"Bail Breaches/Wanted Person\",\n",
                "      \"Bail/Curfew/Wanted\",\n",
                "      \"Prison Licence Recall\",\n",
                "      \"Warrant Crown Court\"\n",
                "    ) ~ \"warrant/bail issue\",\n",
                "    crime_type %in% c(\"Domestic Animal Concern\", \"Wildlife Matters\") ~ \n",
                "      \"animals\",\n",
                "    crime_type %in% c(\n",
                "      \"Firearms - Non Notifiable Crime\",\n",
                "      \"Firearms Involved Crime\"\n",
                "    ) ~ \"firearms\",\n",
                "    crime_type %in% c(\"RTC\", \"RTC - Damage Only\") ~ \"traffic collision\",\n",
                "    crime_type %in% minor_categories ~ \"other - minor\",\n",
                "    TRUE ~ crime_type\n",
                "  )) %>% \n",
                "  count(crime_type_new) %>% \n",
                "  View(title = \"crime_type_new\")\n",
                "\n",
                "\n",
                "calls %>% \n",
                "  filter(crime_type %in% c(\"Drugs\")) %>% \n",
                "  mutate(week = as_date(yearweek(month))) %>% \n",
                "  count(week) %>% \n",
                "  ggplot(aes(x = week, y = n)) +\n",
                "  geom_point() +\n",
                "  geom_smooth(formula = y ~ x, method = \"loess\", span = 0.2) +\n",
                "  # First UK case\n",
                "  geom_vline(xintercept = as.Date(\"2020-01-23\"), linetype = \"33\") +\n",
                "  # First UK lockdown begins\n",
                "  geom_vline(xintercept = as.Date(\"2020-03-23\"), linetype = \"12\") +\n",
                "  # First UK lockdown ends\n",
                "  geom_vline(xintercept = as.Date(\"2020-06-01\"), linetype = \"42\") +\n",
                "  scale_x_date(date_breaks = \"6 months\", date_labels = \"%b\\n%Y\") +\n",
                "  scale_y_continuous(limits = c(0, NA), labels = scales::comma_format()) +\n",
                "  theme_minimal()\n"
            ]
        },
        {
            "cell_type": "markdown",
            "metadata": {},
            "source": [
                "\n",
                "\n"
            ]
        }
    ],
    "metadata": {
        "anaconda-cloud": "",
        "kernelspec": {
            "display_name": "R",
            "langauge": "R",
            "name": "ir"
        },
        "language_info": {
            "codemirror_mode": "r",
            "file_extension": ".r",
            "mimetype": "text/x-r-source",
            "name": "R",
            "pygments_lexer": "r",
            "version": "3.4.1"
        }
    },
    "nbformat": 4,
    "nbformat_minor": 1
}
